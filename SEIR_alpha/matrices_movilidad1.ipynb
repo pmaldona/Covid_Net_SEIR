{
 "cells": [
  {
   "cell_type": "code",
   "execution_count": null,
   "metadata": {},
   "outputs": [],
   "source": [
    "import numpy as np \n",
    "\n",
    "def Matriz_Movilidad_alpha(P,k):\n",
    "    dim=P.shape\n",
    "    if k is not 0:\n",
    "        Alpha=np.zeros((dim[0],dim[1]))\n",
    "        for i in range(dim[0]):\n",
    "            if i==k:\n",
    "                Alpha[i,:]=1\n",
    "                for j in range(dim[1]):\n",
    "                    if j==1:\n",
    "                        Alpha[:,j]=1\n",
    "        return np.eye(dim[0],dim[1]) + Alpha.dot(P)\n",
    "    else:\n",
    "        return np.eye(dim[0],dim[1]) + np.eye(dim[0],dim[1]).dot(P)\n",
    "    \n",
    "def Matriz_Movilidad(P):\n",
    "    dim=P.shape\n",
    "    return np.eye(dim[0],dim[1]) + np.eye(dim[0],dim[1]).dot(P)\n"
   ]
  }
 ],
 "metadata": {
  "kernelspec": {
   "display_name": "Python 3",
   "language": "python",
   "name": "python3"
  },
  "language_info": {
   "codemirror_mode": {
    "name": "ipython",
    "version": 3
   },
   "file_extension": ".py",
   "mimetype": "text/x-python",
   "name": "python",
   "nbconvert_exporter": "python",
   "pygments_lexer": "ipython3",
   "version": "3.7.4"
  }
 },
 "nbformat": 4,
 "nbformat_minor": 2
}
